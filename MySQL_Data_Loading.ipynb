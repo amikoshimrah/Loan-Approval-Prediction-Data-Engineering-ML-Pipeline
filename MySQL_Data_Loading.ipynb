{
 "cells": [
  {
   "cell_type": "code",
   "execution_count": 1,
   "id": "77a363d7-b140-43a4-a05e-cda0d40e0513",
   "metadata": {},
   "outputs": [],
   "source": [
    "# Importing important libraries\n",
    "import numpy as np \n",
    "import pandas as pd\n",
    "import pymysql\n",
    "import warnings\n",
    "warnings.filterwarnings('ignore')"
   ]
  },
  {
   "cell_type": "code",
   "execution_count": 3,
   "id": "344651b4-9dac-4e3b-be0e-84310f48d828",
   "metadata": {},
   "outputs": [],
   "source": [
    "# Imporitng the dataset \n",
    "df_applicant = pd.read_json(\"C:/Users/jaipu/Documents/Black_Elephant/Weekend_January/Data_Engineering_Mini_project/applicant_info.json\", lines = True)\n",
    "df_financial = pd.read_json(\"C:/Users/jaipu/Documents/Black_Elephant/Weekend_January/Data_Engineering_Mini_project/financial_info.json\", lines = True)\n",
    "df_loan = pd.read_json(\"C:/Users/jaipu/Documents/Black_Elephant/Weekend_January/Data_Engineering_Mini_project/loan_info.json\", lines = True)"
   ]
  },
  {
   "cell_type": "code",
   "execution_count": 5,
   "id": "f349c424-1750-4b3a-9ca4-12e8c8a43f06",
   "metadata": {},
   "outputs": [],
   "source": [
    "# Pre-Process the data\n",
    "def clean_df(df):\n",
    "    df = df.replace({np.nan: None})\n",
    "    return df"
   ]
  },
  {
   "cell_type": "code",
   "execution_count": 6,
   "id": "715417a1-8071-4beb-b833-f43c9b4e7bae",
   "metadata": {},
   "outputs": [],
   "source": [
    "# Driver Code \n",
    "df_applicant = clean_df(df_applicant)\n",
    "df_financial = clean_df(df_financial)\n",
    "df_loan = clean_df(df_loan)"
   ]
  },
  {
   "cell_type": "code",
   "execution_count": 8,
   "id": "00bec2bd-c2c4-477c-9144-0684c67f9895",
   "metadata": {},
   "outputs": [
    {
     "name": "stdout",
     "output_type": "stream",
     "text": [
      "<pymysql.cursors.Cursor object at 0x000001A7ED17F5F0>\n"
     ]
    }
   ],
   "source": [
    "# Connecting to MySQL \n",
    "conn = pymysql.connect(\n",
    "    host = 'localhost',\n",
    "    user = 'root', # Give your own username here\n",
    "    password = 'demo@123', # Give your own password here\n",
    "    autocommit = True\n",
    ")\n",
    "cursor = conn.cursor()\n",
    "print(cursor)"
   ]
  },
  {
   "cell_type": "code",
   "execution_count": 9,
   "id": "5d654000-5d5c-4269-9599-8c8faa1f8734",
   "metadata": {},
   "outputs": [
    {
     "data": {
      "text/html": [
       "<div>\n",
       "<style scoped>\n",
       "    .dataframe tbody tr th:only-of-type {\n",
       "        vertical-align: middle;\n",
       "    }\n",
       "\n",
       "    .dataframe tbody tr th {\n",
       "        vertical-align: top;\n",
       "    }\n",
       "\n",
       "    .dataframe thead th {\n",
       "        text-align: right;\n",
       "    }\n",
       "</style>\n",
       "<table border=\"1\" class=\"dataframe\">\n",
       "  <thead>\n",
       "    <tr style=\"text-align: right;\">\n",
       "      <th></th>\n",
       "      <th>Loan_ID</th>\n",
       "      <th>Gender</th>\n",
       "      <th>Married</th>\n",
       "      <th>Dependents</th>\n",
       "      <th>Education</th>\n",
       "      <th>Self_Employed</th>\n",
       "    </tr>\n",
       "  </thead>\n",
       "  <tbody>\n",
       "    <tr>\n",
       "      <th>0</th>\n",
       "      <td>LP001002</td>\n",
       "      <td>Male</td>\n",
       "      <td>No</td>\n",
       "      <td>0</td>\n",
       "      <td>Graduate</td>\n",
       "      <td>No</td>\n",
       "    </tr>\n",
       "    <tr>\n",
       "      <th>1</th>\n",
       "      <td>LP001003</td>\n",
       "      <td>Male</td>\n",
       "      <td>Yes</td>\n",
       "      <td>1</td>\n",
       "      <td>Graduate</td>\n",
       "      <td>No</td>\n",
       "    </tr>\n",
       "    <tr>\n",
       "      <th>2</th>\n",
       "      <td>LP001005</td>\n",
       "      <td>Male</td>\n",
       "      <td>Yes</td>\n",
       "      <td>0</td>\n",
       "      <td>Graduate</td>\n",
       "      <td>Yes</td>\n",
       "    </tr>\n",
       "    <tr>\n",
       "      <th>3</th>\n",
       "      <td>LP001006</td>\n",
       "      <td>Male</td>\n",
       "      <td>Yes</td>\n",
       "      <td>0</td>\n",
       "      <td>Not Graduate</td>\n",
       "      <td>No</td>\n",
       "    </tr>\n",
       "    <tr>\n",
       "      <th>4</th>\n",
       "      <td>LP001008</td>\n",
       "      <td>Male</td>\n",
       "      <td>No</td>\n",
       "      <td>0</td>\n",
       "      <td>Graduate</td>\n",
       "      <td>No</td>\n",
       "    </tr>\n",
       "  </tbody>\n",
       "</table>\n",
       "</div>"
      ],
      "text/plain": [
       "    Loan_ID Gender Married Dependents     Education Self_Employed\n",
       "0  LP001002   Male      No          0      Graduate            No\n",
       "1  LP001003   Male     Yes          1      Graduate            No\n",
       "2  LP001005   Male     Yes          0      Graduate           Yes\n",
       "3  LP001006   Male     Yes          0  Not Graduate            No\n",
       "4  LP001008   Male      No          0      Graduate            No"
      ]
     },
     "execution_count": 9,
     "metadata": {},
     "output_type": "execute_result"
    }
   ],
   "source": [
    "# Getting the structure of the tables \n",
    "df_applicant.head()"
   ]
  },
  {
   "cell_type": "code",
   "execution_count": 10,
   "id": "26de3729-e8d8-4d5b-94c8-ffad5d219f47",
   "metadata": {},
   "outputs": [
    {
     "data": {
      "text/html": [
       "<div>\n",
       "<style scoped>\n",
       "    .dataframe tbody tr th:only-of-type {\n",
       "        vertical-align: middle;\n",
       "    }\n",
       "\n",
       "    .dataframe tbody tr th {\n",
       "        vertical-align: top;\n",
       "    }\n",
       "\n",
       "    .dataframe thead th {\n",
       "        text-align: right;\n",
       "    }\n",
       "</style>\n",
       "<table border=\"1\" class=\"dataframe\">\n",
       "  <thead>\n",
       "    <tr style=\"text-align: right;\">\n",
       "      <th></th>\n",
       "      <th>Loan_ID</th>\n",
       "      <th>ApplicantIncome</th>\n",
       "      <th>CoapplicantIncome</th>\n",
       "      <th>LoanAmount</th>\n",
       "      <th>Loan_Amount_Term</th>\n",
       "      <th>Credit_History</th>\n",
       "    </tr>\n",
       "  </thead>\n",
       "  <tbody>\n",
       "    <tr>\n",
       "      <th>0</th>\n",
       "      <td>LP001002</td>\n",
       "      <td>5849</td>\n",
       "      <td>0.0</td>\n",
       "      <td>None</td>\n",
       "      <td>360.0</td>\n",
       "      <td>1.0</td>\n",
       "    </tr>\n",
       "    <tr>\n",
       "      <th>1</th>\n",
       "      <td>LP001003</td>\n",
       "      <td>4583</td>\n",
       "      <td>1508.0</td>\n",
       "      <td>128.0</td>\n",
       "      <td>360.0</td>\n",
       "      <td>1.0</td>\n",
       "    </tr>\n",
       "    <tr>\n",
       "      <th>2</th>\n",
       "      <td>LP001005</td>\n",
       "      <td>3000</td>\n",
       "      <td>0.0</td>\n",
       "      <td>66.0</td>\n",
       "      <td>360.0</td>\n",
       "      <td>1.0</td>\n",
       "    </tr>\n",
       "    <tr>\n",
       "      <th>3</th>\n",
       "      <td>LP001006</td>\n",
       "      <td>2583</td>\n",
       "      <td>2358.0</td>\n",
       "      <td>120.0</td>\n",
       "      <td>360.0</td>\n",
       "      <td>1.0</td>\n",
       "    </tr>\n",
       "    <tr>\n",
       "      <th>4</th>\n",
       "      <td>LP001008</td>\n",
       "      <td>6000</td>\n",
       "      <td>0.0</td>\n",
       "      <td>141.0</td>\n",
       "      <td>360.0</td>\n",
       "      <td>1.0</td>\n",
       "    </tr>\n",
       "  </tbody>\n",
       "</table>\n",
       "</div>"
      ],
      "text/plain": [
       "    Loan_ID  ApplicantIncome CoapplicantIncome LoanAmount Loan_Amount_Term  \\\n",
       "0  LP001002             5849               0.0       None            360.0   \n",
       "1  LP001003             4583            1508.0      128.0            360.0   \n",
       "2  LP001005             3000               0.0       66.0            360.0   \n",
       "3  LP001006             2583            2358.0      120.0            360.0   \n",
       "4  LP001008             6000               0.0      141.0            360.0   \n",
       "\n",
       "  Credit_History  \n",
       "0            1.0  \n",
       "1            1.0  \n",
       "2            1.0  \n",
       "3            1.0  \n",
       "4            1.0  "
      ]
     },
     "execution_count": 10,
     "metadata": {},
     "output_type": "execute_result"
    }
   ],
   "source": [
    "# Getting the structure of the tables \n",
    "df_financial.head()"
   ]
  },
  {
   "cell_type": "code",
   "execution_count": 11,
   "id": "7c3d7e85-3e2a-4c30-b47c-018ec469fe60",
   "metadata": {},
   "outputs": [
    {
     "data": {
      "text/html": [
       "<div>\n",
       "<style scoped>\n",
       "    .dataframe tbody tr th:only-of-type {\n",
       "        vertical-align: middle;\n",
       "    }\n",
       "\n",
       "    .dataframe tbody tr th {\n",
       "        vertical-align: top;\n",
       "    }\n",
       "\n",
       "    .dataframe thead th {\n",
       "        text-align: right;\n",
       "    }\n",
       "</style>\n",
       "<table border=\"1\" class=\"dataframe\">\n",
       "  <thead>\n",
       "    <tr style=\"text-align: right;\">\n",
       "      <th></th>\n",
       "      <th>Loan_ID</th>\n",
       "      <th>Property_Area</th>\n",
       "      <th>Loan_Status</th>\n",
       "    </tr>\n",
       "  </thead>\n",
       "  <tbody>\n",
       "    <tr>\n",
       "      <th>0</th>\n",
       "      <td>LP001002</td>\n",
       "      <td>Urban</td>\n",
       "      <td>Y</td>\n",
       "    </tr>\n",
       "    <tr>\n",
       "      <th>1</th>\n",
       "      <td>LP001003</td>\n",
       "      <td>Rural</td>\n",
       "      <td>N</td>\n",
       "    </tr>\n",
       "    <tr>\n",
       "      <th>2</th>\n",
       "      <td>LP001005</td>\n",
       "      <td>Urban</td>\n",
       "      <td>Y</td>\n",
       "    </tr>\n",
       "    <tr>\n",
       "      <th>3</th>\n",
       "      <td>LP001006</td>\n",
       "      <td>Urban</td>\n",
       "      <td>Y</td>\n",
       "    </tr>\n",
       "    <tr>\n",
       "      <th>4</th>\n",
       "      <td>LP001008</td>\n",
       "      <td>Urban</td>\n",
       "      <td>Y</td>\n",
       "    </tr>\n",
       "  </tbody>\n",
       "</table>\n",
       "</div>"
      ],
      "text/plain": [
       "    Loan_ID Property_Area Loan_Status\n",
       "0  LP001002         Urban           Y\n",
       "1  LP001003         Rural           N\n",
       "2  LP001005         Urban           Y\n",
       "3  LP001006         Urban           Y\n",
       "4  LP001008         Urban           Y"
      ]
     },
     "execution_count": 11,
     "metadata": {},
     "output_type": "execute_result"
    }
   ],
   "source": [
    "# Getting the structure of the tables \n",
    "df_loan.head()"
   ]
  },
  {
   "cell_type": "code",
   "execution_count": null,
   "id": "d39e1d8e-5c29-4705-89f1-0b8f0186ecba",
   "metadata": {},
   "outputs": [],
   "source": [
    "# \"Loan_ID\" is the common column between the 3 tables."
   ]
  },
  {
   "cell_type": "code",
   "execution_count": 12,
   "id": "19afe6a9-3f04-4c89-9d35-fa88acd04020",
   "metadata": {},
   "outputs": [
    {
     "data": {
      "text/plain": [
       "0"
      ]
     },
     "execution_count": 12,
     "metadata": {},
     "output_type": "execute_result"
    }
   ],
   "source": [
    "# Creating the database \n",
    "cursor.execute(\"CREATE DATABASE IF NOT EXISTS loan_db;\")\n",
    "cursor.execute(\"USE loan_db;\")"
   ]
  },
  {
   "cell_type": "code",
   "execution_count": 13,
   "id": "b3ab3e7b-7bff-4f09-b84a-d5b585ec0f73",
   "metadata": {},
   "outputs": [
    {
     "data": {
      "text/plain": [
       "0"
      ]
     },
     "execution_count": 13,
     "metadata": {},
     "output_type": "execute_result"
    }
   ],
   "source": [
    "# Creating the structure of the tables \n",
    "cursor.execute(\"\"\"\n",
    "CREATE TABLE IF NOT EXISTS applicant_info (\n",
    "    Loan_ID VARCHAR(50) PRIMARY KEY,\n",
    "    Gender VARCHAR(10),\n",
    "    Married VARCHAR(10),\n",
    "    Dependents VARCHAR(10),\n",
    "    Education VARCHAR(20),\n",
    "    Self_Employed VARCHAR(10)\n",
    ")\n",
    "\"\"\")"
   ]
  },
  {
   "cell_type": "code",
   "execution_count": 15,
   "id": "d53ed704-64cd-4a1f-a07e-9a7d46de991c",
   "metadata": {},
   "outputs": [
    {
     "data": {
      "text/plain": [
       "0"
      ]
     },
     "execution_count": 15,
     "metadata": {},
     "output_type": "execute_result"
    }
   ],
   "source": [
    "# Creating the structure of the tables \n",
    "cursor.execute(\"\"\"\n",
    "CREATE TABLE IF NOT EXISTS financial_info (\n",
    "    Loan_ID VARCHAR(50) PRIMARY KEY,\n",
    "    ApplicantIncome FLOAT,\n",
    "    CoapplicantIncome FLOAT,\n",
    "    LoanAmount FLOAT,\n",
    "    Loan_Amount_Term FLOAT,\n",
    "    Credit_History FLOAT\n",
    ")\n",
    "\"\"\")"
   ]
  },
  {
   "cell_type": "code",
   "execution_count": 17,
   "id": "de04e45e-6123-41bd-a501-4ec170934984",
   "metadata": {},
   "outputs": [
    {
     "data": {
      "text/plain": [
       "0"
      ]
     },
     "execution_count": 17,
     "metadata": {},
     "output_type": "execute_result"
    }
   ],
   "source": [
    "# Creating the structure of the tables \n",
    "cursor.execute(\"\"\"\n",
    "CREATE TABLE IF NOT EXISTS loan_info (\n",
    "    Loan_ID VARCHAR(50) PRIMARY KEY,\n",
    "    Property_Area VARCHAR(20),\n",
    "    Loan_Status VARCHAR(10)\n",
    ")\n",
    "\"\"\")"
   ]
  },
  {
   "cell_type": "code",
   "execution_count": 18,
   "id": "ee9d184f-bc99-4f4c-812f-7904a9315e03",
   "metadata": {},
   "outputs": [],
   "source": [
    "# Function for Inserting the data \n",
    "def insert_data(df, table_name):\n",
    "    df = df.where(pd.notnull(df), None) # Replace NaN -> None\n",
    "    cols = \",\".join([f\"{col}\" for col in df.columns])\n",
    "    placeholders = \",\".join([\"%s\"] * len(df.columns))\n",
    "    insert_sql = f\"REPLACE INTO {table_name} ({cols}) VALUES ({placeholders})\"\n",
    "\n",
    "    clean_data = []\n",
    "    for row in df.itertuples(index = False, name = None):\n",
    "        clean_row = [None if (isinstance(val, float) and np.isnan(val)) else val for val in row]\n",
    "        clean_data.append(tuple(clean_row))\n",
    "\n",
    "    cursor.executemany(insert_sql, clean_data)\n",
    "    conn.commit()"
   ]
  },
  {
   "cell_type": "code",
   "execution_count": 19,
   "id": "078debf1-8140-4aac-8172-438ea802c89b",
   "metadata": {},
   "outputs": [],
   "source": [
    "# Driver Code\n",
    "insert_data(df_applicant, \"applicant_info\")\n",
    "insert_data(df_financial, \"financial_info\")\n",
    "insert_data(df_loan, \"loan_info\")"
   ]
  },
  {
   "cell_type": "code",
   "execution_count": 20,
   "id": "168136d8-e5e1-4daa-b7be-2a96086d550f",
   "metadata": {},
   "outputs": [],
   "source": [
    "# Closing the cursor and the connection \n",
    "cursor.close()\n",
    "conn.close()"
   ]
  },
  {
   "cell_type": "code",
   "execution_count": null,
   "id": "2366ff62-b247-4663-accb-5d43a4255084",
   "metadata": {},
   "outputs": [],
   "source": []
  }
 ],
 "metadata": {
  "kernelspec": {
   "display_name": "Python 3 (ipykernel)",
   "language": "python",
   "name": "python3"
  },
  "language_info": {
   "codemirror_mode": {
    "name": "ipython",
    "version": 3
   },
   "file_extension": ".py",
   "mimetype": "text/x-python",
   "name": "python",
   "nbconvert_exporter": "python",
   "pygments_lexer": "ipython3",
   "version": "3.13.5"
  }
 },
 "nbformat": 4,
 "nbformat_minor": 5
}
